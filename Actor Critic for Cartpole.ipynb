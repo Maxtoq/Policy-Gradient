{
 "cells": [
  {
   "cell_type": "markdown",
   "metadata": {},
   "source": [
    "# Actor Critic for Cartpole"
   ]
  },
  {
   "cell_type": "code",
   "execution_count": 2,
   "metadata": {},
   "outputs": [],
   "source": [
    "import torch\n",
    "import torch.nn.functional as F\n",
    "import torch.nn as nn\n",
    "from torch.distributions import Categorical\n",
    "\n",
    "import matplotlib.pyplot as plt\n",
    "%matplotlib inline\n",
    "import numpy as np\n",
    "\n",
    "import gym"
   ]
  },
  {
   "cell_type": "markdown",
   "metadata": {},
   "source": [
    "### Cartpole environment"
   ]
  },
  {
   "cell_type": "code",
   "execution_count": 3,
   "metadata": {},
   "outputs": [],
   "source": [
    "env = gym.make('CartPole-v1')"
   ]
  },
  {
   "cell_type": "markdown",
   "metadata": {},
   "source": [
    "### Vanilla Actor Critic agent"
   ]
  },
  {
   "cell_type": "code",
   "execution_count": null,
   "metadata": {},
   "outputs": [],
   "source": [
    "class ActorCritic():\n",
    "    \n",
    "    def __init__(self, env, actor_lr=0.01, critic_lr=0.01, dr=0.95):\n",
    "        # Cartpole environment\n",
    "        self.cartpole_env = env\n",
    "        \n",
    "        # Learning rate\n",
    "        self.lr = lr\n",
    "        # Discount rate\n",
    "        self.dr = dr\n",
    "        \n",
    "        # Actor model: learns policy function\n",
    "        #   - Inputs: 4 real values: [Cart Position, Cart Velocity, Pole Angle, Pole Angular Velocity]\n",
    "        #   - 3 fully connected layers\n",
    "        #   - final softmax activation to get probability distribution\n",
    "        #   - Outputs: Probability of taking the two actions: [Push cart to left, Push cart to right]\n",
    "        self.actor = nn.Sequential(\n",
    "            nn.Linear(in_features=4, out_features=10),\n",
    "            nn.ReLU(),\n",
    "            nn.Linear(in_features=10, out_features=2),\n",
    "            nn.ReLU(),\n",
    "            nn.Linear(in_features=2, out_features=2),\n",
    "            nn.Softmax()\n",
    "        )\n",
    "        self.actor_optim = torch.optim.Adam(self.policy.parameters(), lr=self.actor_lr)\n",
    "        \n",
    "        # Critic model: learning value function\n",
    "        #   - Inputs: 4 real values: [Cart Position, Cart Velocity, Pole Angle, Pole Angular Velocity]\n",
    "        #   - 3 fully connected layers\n",
    "        #   - Outputs: Value of each action in current state\n",
    "        self.critic = nn.Sequential(\n",
    "            nn.Linear(in_features=4, out_features=10),\n",
    "            nn.ReLU(),\n",
    "            nn.Linear(in_features=10, out_features=2),\n",
    "            nn.ReLU(),\n",
    "            nn.Linear(in_features=2, out_features=2)\n",
    "        )\n",
    "        self.critic_optim = torch.optim.Adam(self.)"
   ]
  }
 ],
 "metadata": {
  "kernelspec": {
   "display_name": "Python 3.8.5 64-bit ('venv': venv)",
   "language": "python",
   "name": "python38564bitvenvvenve707a29cafd6429bb9fd4c1ff91c75c7"
  },
  "language_info": {
   "codemirror_mode": {
    "name": "ipython",
    "version": 3
   },
   "file_extension": ".py",
   "mimetype": "text/x-python",
   "name": "python",
   "nbconvert_exporter": "python",
   "pygments_lexer": "ipython3",
   "version": "3.8.5"
  }
 },
 "nbformat": 4,
 "nbformat_minor": 4
}
